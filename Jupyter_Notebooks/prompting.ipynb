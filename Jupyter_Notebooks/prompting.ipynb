{
 "cells": [
  {
   "cell_type": "code",
   "execution_count": 11,
   "metadata": {},
   "outputs": [],
   "source": [
    "import warnings\n",
    "warnings.filterwarnings(\"ignore\")\n",
    "\n",
    "from helper import get_openai_api_key\n",
    "openai_api_key = get_openai_api_key()"
   ]
  },
  {
   "cell_type": "code",
   "execution_count": 16,
   "metadata": {},
   "outputs": [],
   "source": [
    "import json\n",
    "from IPython.display import display, Markdown, HTML\n",
    "from openai import OpenAI\n",
    "\n",
    "client = OpenAI(api_key=openai_api_key)\n",
    "GPT_MODEL = 'gpt-4o'\n",
    "GPT_MODEL_MINI = 'gpt-40-mini'\n",
    "o1_MODEL = 'o1-mini'"
   ]
  },
  {
   "cell_type": "code",
   "execution_count": null,
   "metadata": {},
   "outputs": [],
   "source": [
    "no_CoT_prompt = (\"Generate a function that outputs the SMILES IDs for all the molecules involved in insulin.\")\n",
    "response = client.chat.completions.create(model=GPT_MODEL,messages=[{\"role\":\"user\",\"content\": no_CoT_prompt}])"
   ]
  },
  {
   "cell_type": "code",
   "execution_count": 18,
   "metadata": {},
   "outputs": [
    {
     "data": {
      "text/html": [
       "<div style=\"background-color: #f0fff8; padding: 10px; border-radius: 5px; border: 1px solid #d3d3d3;\"></hr><h2>🔽 &nbsp; Markdown Output – Beginning</h2></hr></div>"
      ],
      "text/plain": [
       "<IPython.core.display.HTML object>"
      ]
     },
     "metadata": {},
     "output_type": "display_data"
    },
    {
     "data": {
      "text/markdown": [
       "Creating a function that outputs the SMILES (Simplified Molecular Input Line Entry System) notation for all molecules involved in insulin is quite challenging due to the complexity of insulin. Insulin is a peptide hormone composed of two peptide chains (A chain and B chain) connected by disulfide bonds. Each of these chains consists of a sequence of amino acids. Representing entire proteins or complex peptides like insulin using SMILES is not typical, as SMILES is generally used for small molecules.\n",
       "\n",
       "However, if you're looking to represent the basic building blocks or a simplified version of insulin, you would first need the SMILES for each amino acid involved. Below is a Python function that provides SMILES strings for common amino acids. You could extend this to map the ones found in insulin, albeit insulin is better represented in its entirety through sequence databases rather than as SMILES due to its complexity.\n",
       "\n",
       "```python\n",
       "def get_amino_acid_smiles(amino_acid):\n",
       "    # Dictionary mapping single-letter amino acid codes to SMILES\n",
       "    amino_acid_smiles = {\n",
       "        'A': 'CC(C(=O)O)N',        # Alanine\n",
       "        'R': 'C(C(C(=O)O)N)CN=C(N)N', # Arginine\n",
       "        'N': 'CC(C(=O)O)NC(=O)C',  # Asparagine\n",
       "        'D': 'CC(C(=O)O)C(=O)O',   # Aspartic acid\n",
       "        'C': 'C(C(C(=O)O)N)S',     # Cysteine\n",
       "        'Q': 'CCC(C(=O)O)NC(=O)C', # Glutamine\n",
       "        'E': 'CCC(C(=O)O)C(=O)O',  # Glutamic acid\n",
       "        'G': 'C(C(=O)O)N',         # Glycine\n",
       "        'H': 'C1=C(NC=N1)C(C(=O)O)N', # Histidine\n",
       "        'I': 'CC(C)C(C(=O)O)N',    # Isoleucine\n",
       "        'L': 'C(C(C(=O)O)N)CC',    # Leucine\n",
       "        'K': 'CCCC(C(=O)O)N',      # Lysine\n",
       "        'M': 'CSCC(C(=O)O)N',      # Methionine\n",
       "        'F': 'CC(C(=O)O)N',        # Phenyalanine\n",
       "        'P': 'C1CNC1C(=O)O',       # Proline\n",
       "        'S': 'C(C(C(=O)O)N)O',     # Serine\n",
       "        'T': 'C(C(C(=O)O)N)O',     # Threonine\n",
       "        'W': 'C1=CC=C2C(=C1)C(=CN2)C(=O)O', # Tryptophan\n",
       "        'Y': 'C1=CC=C(C=C1)CC(C(=O)O)N', # Tyrosine\n",
       "        'V': 'CC(C(=O)O)N',        # Valine\n",
       "    }\n",
       "    \n",
       "    return amino_acid_smiles.get(amino_acid.upper(), \"Unknown\")\n",
       "\n",
       "# Example usage:\n",
       "amino_acid = 'A'  # Alanine, for example\n",
       "print(get_amino_acid_smiles(amino_acid))\n",
       "```\n",
       "\n",
       "For specific insulin structure, you'd need to map its amino acid sequence using the above dictionary. However, insulin is better represented by peptide sequences using FASTA format or in databases like PDB or UniProt rather than trying to force it into SMILES."
      ],
      "text/plain": [
       "<IPython.core.display.Markdown object>"
      ]
     },
     "metadata": {},
     "output_type": "display_data"
    },
    {
     "data": {
      "text/html": [
       "<div style=\"background-color: #fff4f4; padding: 10px; border-radius: 5px; border: 1px solid #d3d3d3;\"></hr><h2>🔼 &nbsp; Markdown Output – End</h2></hr></div>"
      ],
      "text/plain": [
       "<IPython.core.display.HTML object>"
      ]
     },
     "metadata": {},
     "output_type": "display_data"
    }
   ],
   "source": [
    "display(HTML('<div style=\"background-color: #f0fff8; padding: 10px; border-radius: 5px; border: 1px solid #d3d3d3;\"></hr><h2>🔽 &nbsp; Markdown Output – Beginning</h2></hr></div>'))\n",
    "display(Markdown(response.choices[0].message.content))\n",
    "display(HTML('<div style=\"background-color: #fff4f4; padding: 10px; border-radius: 5px; border: 1px solid #d3d3d3;\"></hr><h2>🔼 &nbsp; Markdown Output – End</h2></hr></div>'))"
   ]
  }
 ],
 "metadata": {
  "kernelspec": {
   "display_name": "Python 3",
   "language": "python",
   "name": "python3"
  },
  "language_info": {
   "codemirror_mode": {
    "name": "ipython",
    "version": 3
   },
   "file_extension": ".py",
   "mimetype": "text/x-python",
   "name": "python",
   "nbconvert_exporter": "python",
   "pygments_lexer": "ipython3",
   "version": "3.9.6"
  }
 },
 "nbformat": 4,
 "nbformat_minor": 2
}
